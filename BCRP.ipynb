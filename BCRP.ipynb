{
 "cells": [
  {
   "cell_type": "markdown",
   "metadata": {},
   "source": [
    "# Extracción de datos de la API del BCRP.\n",
    "La Base de Datos de Estadísticas del BCRP (BCRPData) proporciona la herramienta API para Desarrolladores como una de las facilidades que se brindan para la obtención y uso de las series macroeconómicas. (https://estadisticas.bcrp.gob.pe/estadisticas/series/documentos/bcrpdataapi.pdf)"
   ]
  },
  {
   "cell_type": "markdown",
   "metadata": {},
   "source": [
    "Este código costruira una URL que se utilizará para acceder a datos de estadísticas proporcionados por el Banco Central de Reserva del Perú (BCRP) a través de su API. "
   ]
  },
  {
   "cell_type": "code",
   "execution_count": 13,
   "metadata": {},
   "outputs": [
    {
     "name": "stdout",
     "output_type": "stream",
     "text": [
      "https://estadisticas.bcrp.gob.pe/estadisticas/series/api/PN38063GM/csv/2018-9/2023-9\n"
     ]
    }
   ],
   "source": [
    "url_base=\"https://estadisticas.bcrp.gob.pe/estadisticas/series/api/\"\n",
    "cod_ser=\"PN38063GM\" # Tasa de Desempleo (%)\n",
    "formato=\"/csv\"\n",
    "per=\"/2018-9/2023-9\"\n",
    "url=url_base+cod_ser+formato+per\n",
    "print(url)\n",
    "#args=\"address=1600+Amphitheatre+Parkway, +Mountain+View, +CA&\"+key_api\n",
    "#No necesitamos poner la url en formato de diccionario, no hay \"?\" no usamos query con argumentos con key y values"
   ]
  },
  {
   "cell_type": "markdown",
   "metadata": {},
   "source": [
    "Utilizando la biblioteca requests de Python para realizar una solicitud HTTP GET a la URL construida previamente"
   ]
  },
  {
   "cell_type": "code",
   "execution_count": 14,
   "metadata": {},
   "outputs": [
    {
     "name": "stdout",
     "output_type": "stream",
     "text": [
      "<Response [200]>\n"
     ]
    }
   ],
   "source": [
    "import requests \n",
    "response = requests.get(url)  # Response 200 todo OK \n",
    "print(response)"
   ]
  },
  {
   "cell_type": "markdown",
   "metadata": {},
   "source": [
    "Después de la solicitud HTTP GET y procesamos la respuesta obtenida de la API del BCRP y comocamos los datos en un DF."
   ]
  },
  {
   "cell_type": "code",
   "execution_count": 22,
   "metadata": {},
   "outputs": [
    {
     "name": "stdout",
     "output_type": "stream",
     "text": [
      "       Fecha  Tasa de Desempleo (%)\n",
      "0   Sep.2018               6.181888\n",
      "1   Oct.2018               6.425933\n",
      "2   Nov.2018               6.247634\n",
      "3   Dic.2018               6.126948\n",
      "4   Ene.2019               6.476252\n",
      "..       ...                    ...\n",
      "56  May.2023               6.778779\n",
      "57  Jun.2023               6.551520\n",
      "58  Jul.2023               6.264338\n",
      "59  Ago.2023               6.637680\n",
      "60  Sep.2023               6.731492\n",
      "\n",
      "[61 rows x 2 columns]\n"
     ]
    }
   ],
   "source": [
    "import pandas as pd\n",
    "import requests\n",
    "from bs4 import BeautifulSoup\n",
    "import re\n",
    "\n",
    "# Comprueba si la solicitud se realizó con éxito (código de respuesta 200)\n",
    "if response.status_code == 200:\n",
    "    # Utiliza BeautifulSoup para eliminar el HTML y obtener el texto\n",
    "    soup = BeautifulSoup(response.text, 'html.parser')\n",
    "    data = soup.get_text()\n",
    "    \n",
    "    # Utiliza una expresión regular para extraer la fecha y el valor\n",
    "    pattern = r'\"(.*?)\",\"(.*?)\"'\n",
    "    matches = re.findall(pattern, data)\n",
    "    \n",
    "    # Crea una lista de diccionarios para los datos\n",
    "    data_list = []\n",
    "    for match in matches:\n",
    "        date = match[0].replace('\"', '')  # Elimina las comillas\n",
    "        value = float(match[1])\n",
    "        data_list.append({'Fecha': date, 'Tasa de Desempleo (%)': value})\n",
    "    \n",
    "    # Crea un DataFrame a partir de la lista de diccionarios\n",
    "    df = pd.DataFrame(data_list)\n",
    "    \n",
    "    # Imprime el DataFrame\n",
    "    print(df)\n",
    "else:\n",
    "    print(f\"La solicitud GET a la API falló con el código de respuesta: {response.status_code}\")"
   ]
  },
  {
   "cell_type": "code",
   "execution_count": 24,
   "metadata": {},
   "outputs": [
    {
     "name": "stdout",
     "output_type": "stream",
     "text": [
      "         Fecha  Tasa de Desempleo (%)\n",
      "0   01/09/2018               6.181888\n",
      "1   01/10/2018               6.425933\n",
      "2   01/11/2018               6.247634\n",
      "3   01/12/2018               6.126948\n",
      "4   01/01/2019               6.476252\n",
      "..         ...                    ...\n",
      "56  01/05/2023               6.778779\n",
      "57  01/06/2023               6.551520\n",
      "58  01/07/2023               6.264338\n",
      "59  01/08/2023               6.637680\n",
      "60  01/09/2023               6.731492\n",
      "\n",
      "[61 rows x 2 columns]\n"
     ]
    }
   ],
   "source": [
    "# Mapear los nombres de los meses a números de mes\n",
    "meses = {\n",
    "    'Ene': '01', 'Feb': '02', 'Mar': '03', 'Abr': '04',\n",
    "    'May': '05', 'Jun': '06', 'Jul': '07', 'Ago': '08',\n",
    "    'Sep': '09', 'Oct': '10', 'Nov': '11', 'Dic': '12'\n",
    "}\n",
    "\n",
    "# Función para convertir las fechas\n",
    "def convertir_fecha(fecha):\n",
    "    partes = fecha.split('.')\n",
    "    mes = meses.get(partes[0], '01')  # Si el mes no se encuentra, se usa '01' como valor por defecto\n",
    "    nueva_fecha = f'01/{mes}/{partes[1]}'\n",
    "    return nueva_fecha\n",
    "\n",
    "# Aplicar la función a la columna 'Fecha'\n",
    "df['Fecha'] = df['Fecha'].apply(convertir_fecha)\n",
    "\n",
    "# Mostrar el DataFrame resultante\n",
    "print(df)"
   ]
  }
 ],
 "metadata": {
  "kernelspec": {
   "display_name": "venv",
   "language": "python",
   "name": "python3"
  },
  "language_info": {
   "codemirror_mode": {
    "name": "ipython",
    "version": 3
   },
   "file_extension": ".py",
   "mimetype": "text/x-python",
   "name": "python",
   "nbconvert_exporter": "python",
   "pygments_lexer": "ipython3",
   "version": "3.10.6"
  }
 },
 "nbformat": 4,
 "nbformat_minor": 2
}
