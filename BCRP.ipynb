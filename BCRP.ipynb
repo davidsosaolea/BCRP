{
 "cells": [
  {
   "cell_type": "markdown",
   "metadata": {},
   "source": [
    "# Extracción de datos de la API del BCRP.\n",
    "La Base de Datos de Estadísticas del BCRP (BCRPData) proporciona la herramienta API para Desarrolladores como una de las facilidades que se brindan para la obtención y uso de las series macroeconómicas. (https://estadisticas.bcrp.gob.pe/estadisticas/series/documentos/bcrpdataapi.pdf)"
   ]
  },
  {
   "cell_type": "markdown",
   "metadata": {},
   "source": [
    "Este código costruira una URL que se utilizará para acceder a datos de estadísticas proporcionados por el Banco Central de Reserva del Perú (BCRP) a través de su API. "
   ]
  },
  {
   "cell_type": "code",
   "execution_count": 1,
   "metadata": {},
   "outputs": [
    {
     "name": "stdout",
     "output_type": "stream",
     "text": [
      "https://estadisticas.bcrp.gob.pe/estadisticas/series/api/PN38063GM/csv/2018-9/2023-9\n"
     ]
    }
   ],
   "source": [
    "url_base=\"https://estadisticas.bcrp.gob.pe/estadisticas/series/api/\"\n",
    "cod_ser=\"PN38063GM\" # Tasa de Desempleo (%)\n",
    "formato=\"/csv\"\n",
    "per=\"/2018-9/2023-9\"\n",
    "url=url_base+cod_ser+formato+per\n",
    "print(url)\n",
    "#args=\"address=1600+Amphitheatre+Parkway, +Mountain+View, +CA&\"+key_api\n",
    "#No necesitamos poner la url en formato de diccionario, no hay \"?\" no usamos query con argumentos con key y values"
   ]
  },
  {
   "cell_type": "markdown",
   "metadata": {},
   "source": [
    "Utilizando la biblioteca requests de Python para realizar una solicitud HTTP GET a la URL construida previamente"
   ]
  },
  {
   "cell_type": "code",
   "execution_count": 2,
   "metadata": {},
   "outputs": [
    {
     "name": "stdout",
     "output_type": "stream",
     "text": [
      "<Response [200]>\n"
     ]
    }
   ],
   "source": [
    "import requests \n",
    "response = requests.get(url)  # Response 200 todo OK \n",
    "print(response)"
   ]
  },
  {
   "cell_type": "markdown",
   "metadata": {},
   "source": [
    "Después de la solicitud HTTP GET y procesamos la respuesta obtenida de la API del BCRP y colocamos los datos en un DF."
   ]
  },
  {
   "cell_type": "code",
   "execution_count": 3,
   "metadata": {},
   "outputs": [
    {
     "name": "stdout",
     "output_type": "stream",
     "text": [
      "       Fecha  Tasa de Desempleo (%)\n",
      "0   Sep.2018               6.181888\n",
      "1   Oct.2018               6.425933\n",
      "2   Nov.2018               6.247634\n",
      "3   Dic.2018               6.126948\n",
      "4   Ene.2019               6.476252\n",
      "..       ...                    ...\n",
      "56  May.2023               6.778779\n",
      "57  Jun.2023               6.551520\n",
      "58  Jul.2023               6.264338\n",
      "59  Ago.2023               6.637680\n",
      "60  Sep.2023               6.731492\n",
      "\n",
      "[61 rows x 2 columns]\n"
     ]
    }
   ],
   "source": [
    "import pandas as pd\n",
    "import requests\n",
    "from bs4 import BeautifulSoup\n",
    "import re\n",
    "\n",
    "# Comprueba si la solicitud se realizó con éxito (código de respuesta 200)\n",
    "if response.status_code == 200:\n",
    "    # Utiliza BeautifulSoup para eliminar el HTML y obtener el texto\n",
    "    soup = BeautifulSoup(response.text, 'html.parser')\n",
    "    data = soup.get_text()\n",
    "    \n",
    "    # Utiliza una expresión regular para extraer la fecha y el valor\n",
    "    pattern = r'\"(.*?)\",\"(.*?)\"'\n",
    "    matches = re.findall(pattern, data)\n",
    "    \n",
    "    # Crea una lista de diccionarios para los datos\n",
    "    data_list = []\n",
    "    for match in matches:\n",
    "        date = match[0].replace('\"', '')  # Elimina las comillas\n",
    "        value = float(match[1])\n",
    "        data_list.append({'Fecha': date, 'Tasa de Desempleo (%)': value})\n",
    "    \n",
    "    # Crea un DataFrame a partir de la lista de diccionarios\n",
    "    df = pd.DataFrame(data_list)\n",
    "    \n",
    "    # Imprime el DataFrame\n",
    "    print(df)\n",
    "else:\n",
    "    print(f\"La solicitud GET a la API falló con el código de respuesta: {response.status_code}\")"
   ]
  },
  {
   "cell_type": "markdown",
   "metadata": {},
   "source": [
    "Realizamos la conversión de fechas en un DataFrame, mapeando los nombres de los meses abreviados a números de mes en formato 'mm/dd/yyyy"
   ]
  },
  {
   "cell_type": "code",
   "execution_count": 4,
   "metadata": {},
   "outputs": [
    {
     "name": "stdout",
     "output_type": "stream",
     "text": [
      "         Fecha  Tasa de Desempleo (%)\n",
      "0   01/09/2018               6.181888\n",
      "1   01/10/2018               6.425933\n",
      "2   01/11/2018               6.247634\n",
      "3   01/12/2018               6.126948\n",
      "4   01/01/2019               6.476252\n",
      "..         ...                    ...\n",
      "56  01/05/2023               6.778779\n",
      "57  01/06/2023               6.551520\n",
      "58  01/07/2023               6.264338\n",
      "59  01/08/2023               6.637680\n",
      "60  01/09/2023               6.731492\n",
      "\n",
      "[61 rows x 2 columns]\n"
     ]
    }
   ],
   "source": [
    "# Se crea un diccionario llamado meses, que asocia los nombres abreviados de los meses con sus números correspondientes.\n",
    "# Por ejemplo, 'Ene' se asigna a '01', 'Feb' a '02', y así sucesivamente.\n",
    "meses = {\n",
    "    'Ene': '01', 'Feb': '02', 'Mar': '03', 'Abr': '04',\n",
    "    'May': '05', 'Jun': '06', 'Jul': '07', 'Ago': '08',\n",
    "    'Sep': '09', 'Oct': '10', 'Nov': '11', 'Dic': '12'\n",
    "}\n",
    "\n",
    "# Función para convertir las fechas\n",
    "def convertir_fecha(fecha):\n",
    "    \n",
    "    \"\"\" Se define una función llamada convertir_fecha que toma una fecha en formato 'Mmm.dd' \n",
    "    (donde 'Mmm' es el nombre abreviado del mes y 'dd' es el día) y la convierte en '01/mm/dd'.\n",
    "    Si el nombre del mes no se encuentra en el diccionario, se utiliza '01' como mes por defecto.\n",
    "    \"\"\"\n",
    "    partes = fecha.split('.')\n",
    "    mes = meses.get(partes[0], '01')  # Si el mes no se encuentra, se usa '01' como valor por defecto\n",
    "    nueva_fecha = f'01/{mes}/{partes[1]}'\n",
    "    return nueva_fecha\n",
    "\n",
    "# Aplicar la función a la columna 'Fecha'\n",
    "df['Fecha'] = df['Fecha'].apply(convertir_fecha)\n",
    "\n",
    "# Mostrar el DataFrame resultante\n",
    "print(df)"
   ]
  },
  {
   "cell_type": "markdown",
   "metadata": {},
   "source": [
    "Creamos la funcion con el objetivo de obtener datos económicos de una serie específica del BCRP, procesar estos datos y devolverlos en forma de un DataFrame de pandas."
   ]
  },
  {
   "cell_type": "code",
   "execution_count": 5,
   "metadata": {},
   "outputs": [],
   "source": [
    "# Función para obtener un DataFrame a partir de una serie específica\n",
    "def obtener_datos_economicos(cod_ser, columna_nombre):\n",
    "    url_base = \"https://estadisticas.bcrp.gob.pe/estadisticas/series/api/\"\n",
    "    formato = \"/csv\"\n",
    "    periodo = \"/2018-9/2023-9\"\n",
    "    url = url_base + cod_ser + formato + periodo\n",
    "\n",
    "    response = requests.get(url)\n",
    "\n",
    "    if response.status_code == 200:\n",
    "        soup = BeautifulSoup(response.text, 'html.parser')\n",
    "        data = soup.get_text()\n",
    "\n",
    "        pattern = r'\"(.*?)\",\"(.*?)\"'\n",
    "        matches = re.findall(pattern, data)\n",
    "\n",
    "        data_list = []\n",
    "        for match in matches:\n",
    "            date = match[0].replace('\"', '')\n",
    "            value = float(match[1])\n",
    "            data_list.append({'Fecha': date, columna_nombre: value})\n",
    "\n",
    "        df = pd.DataFrame(data_list)\n",
    "\n",
    "        meses = {\n",
    "            'Ene': '01', 'Feb': '02', 'Mar': '03', 'Abr': '04',\n",
    "            'May': '05', 'Jun': '06', 'Jul': '07', 'Ago': '08',\n",
    "            'Sep': '09', 'Oct': '10', 'Nov': '11', 'Dic': '12'\n",
    "        }\n",
    "\n",
    "        def convertir_fecha(fecha):\n",
    "            partes = fecha.split('.')\n",
    "            mes = meses.get(partes[0], '01')\n",
    "            nueva_fecha = f'01/{mes}/{partes[1]}'\n",
    "            return nueva_fecha\n",
    "\n",
    "        df['Fecha'] = df['Fecha'].apply(convertir_fecha)\n",
    "\n",
    "        return df\n",
    "    else:\n",
    "        print(f\"La solicitud GET a la API falló con el código de respuesta: {response.status_code}\")\n",
    "        return None\n"
   ]
  },
  {
   "cell_type": "markdown",
   "metadata": {},
   "source": [
    "Peticion de los datos "
   ]
  },
  {
   "cell_type": "code",
   "execution_count": 7,
   "metadata": {},
   "outputs": [],
   "source": [
    "\"\"\" Se crea una lista llamada indicadores, donde cada elemento de la lista es una tupla que contiene tres elementos: \n",
    "el nombre de la variable, un código y una descripción. Luego, se itera a través de esta lista y, en cada iteración, \n",
    "se llama a la función obtener_datos_economicos con el código y la descripción correspondientes de la tupla. \n",
    "Los resultados de estas llamadas se almacenan en variables globales con nombres dados por el primer elemento de la tupla. \"\"\"\n",
    "\n",
    "indicadores = [\n",
    "    (\"PBI_1\", \"PN01728AM\", \"PBI (variaciones porcentuales anualizadas)\"),\n",
    "    (\"PBI_2\", \"PN01770AM\", \"PBI (índice 2007=100)\"),\n",
    "    (\"T_CAMBIO\", \"PN01234PM\", \"TIPO_CAMBIO (USD)\"),\n",
    "    (\"INFLACION_BIENES\", \"PN01296PM\", \"INFLACION_BIENES (variación porcentual)\"),\n",
    "    (\"INFLACION_SERVICIOS\", \"PN01301PM\", \"INFLACION_SERVICIOS (variación porcentual)\"),\n",
    "    (\"INFLACION_ALIMENTOS\", \"PN01308PM\", \"INFLACION_ALIMENTOS (variación porcentual)\"),\n",
    "    (\"INFLACION_COMBUSTIBLE\", \"PN01309PM\", \"INFLACION_COMBUSTIBLE (variación porcentual)\"),\n",
    "    (\"RESERVAS_INTERNAS\", \"PN00026MM\", \"RESERVAS_INTERNACIONALES_NETAS (millones S/)\"),\n",
    "    (\"EXPORTACIONES\", \"RD38111BM\", \"Exportaciones (Valores FOB en millones de US$)\"),\n",
    "    (\"EXPORTACIONES_TRADICIONALES\", \"PN38814BM\", \"Exportaciones de productos tradicionales - valores FOB (millones US$)\"),\n",
    "    (\"EXPORTACIONES_NO_TRADICIONALES\", \"PN38890BM\", \"Exportaciones de productos no tradicionales - valores FOB (millones US$)\"),\n",
    "    (\"CREDITO_PRIVADO\", \"PN00012MM\", \"Activos Internos Netos - Crédito al Sector Privado (millones S/)\"),\n",
    "    (\"LIQUIDES_BANCARIA\", \"PN00135MM\", \"Liquidez de las empresas bancarias (millones S/)\"),\n",
    "    (\"ACTIVAS_TAMN\", \"PN07807NM\", \"Tasas Activas para el Mercado Interbancario\"),\n",
    "    (\"DESEMPLEO_LIMA\", \"PN38063GM\", \"Desempleo en Lima Metropolitana - Promedio móvil tres meses (porcentaje)\")\n",
    "]\n",
    "\n",
    "for variable, codigo, descripcion in indicadores:\n",
    "    globals()[variable] = obtener_datos_economicos(codigo, descripcion)\n"
   ]
  },
  {
   "cell_type": "markdown",
   "metadata": {},
   "source": [
    "Unión de los DataFrames"
   ]
  },
  {
   "cell_type": "code",
   "execution_count": 8,
   "metadata": {},
   "outputs": [],
   "source": [
    "import pandas as pd\n",
    "\n",
    "# Primero, inicializa un DataFrame con la columna \"Fecha\" que servirá como base\n",
    "base_df = PBI_1[[\"Fecha\"]]\n",
    "\n",
    "# Luego, realiza la unión de los DataFrames utilizando la columna \"Fecha\"\n",
    "dataframes = [PBI_1, PBI_2, T_CAMBIO, INFLACION_BIENES, INFLACION_SERVICIOS, \n",
    "              INFLACION_ALIMENTOS, INFLACION_COMBUSTIBLE, RESERVAS_INTERNAS, \n",
    "              EXPORTACIONES, EXPORTACIONES_TRADICIONALES, EXPORTACIONES_NO_TRADICIONALES, \n",
    "              CREDITO_PRIVADO, LIQUIDES_BANCARIA, ACTIVAS_TAMN, DESEMPLEO_LIMA]\n",
    "\n",
    "for df in dataframes:\n",
    "    base_df = base_df.merge(df, on=\"Fecha\", how=\"outer\")\n",
    "\n",
    "# El resultado final estará en base_df\n"
   ]
  },
  {
   "cell_type": "code",
   "execution_count": 10,
   "metadata": {},
   "outputs": [
    {
     "name": "stdout",
     "output_type": "stream",
     "text": [
      "Fecha                                                                        0\n",
      "PBI (variaciones porcentuales anualizadas)                                   2\n",
      "PBI (índice 2007=100)                                                        2\n",
      "TIPO_CAMBIO (USD)                                                            1\n",
      "INFLACION_BIENES (variación porcentual)                                      1\n",
      "INFLACION_SERVICIOS (variación porcentual)                                   1\n",
      "INFLACION_ALIMENTOS (variación porcentual)                                   1\n",
      "INFLACION_COMBUSTIBLE (variación porcentual)                                 1\n",
      "RESERVAS_INTERNACIONALES_NETAS (millones S/)                                 1\n",
      "Exportaciones (Valores FOB en millones de US$)                              22\n",
      "Exportaciones de productos tradicionales - valores FOB (millones US$)        2\n",
      "Exportaciones de productos no tradicionales - valores FOB (millones US$)     2\n",
      "Activos Internos Netos - Crédito al Sector Privado (millones S/)             2\n",
      "Liquidez de las empresas bancarias (millones S/)                             2\n",
      "Tasas Activas para el Mercado Interbancario                                  2\n",
      "Desempleo en Lima Metropolitana - Promedio móvil tres meses (porcentaje)     1\n",
      "dtype: int64\n"
     ]
    }
   ],
   "source": [
    "null_counts = base_df.isnull().sum()\n",
    "print(null_counts)"
   ]
  },
  {
   "cell_type": "markdown",
   "metadata": {},
   "source": [
    "Creacion del csv"
   ]
  },
  {
   "cell_type": "code",
   "execution_count": 12,
   "metadata": {},
   "outputs": [
    {
     "name": "stdout",
     "output_type": "stream",
     "text": [
      "El DataFrame se ha guardado en data/BCRP.csv\n"
     ]
    }
   ],
   "source": [
    "# Ruta donde se guardará el archivo CSV\n",
    "ruta_csv = 'data/BCRP.csv'\n",
    "\n",
    "# Guardar el DataFrame en el archivo CSV\n",
    "base_df.to_csv(ruta_csv, index=False)  # El parámetro 'index=False' evita que se guarde el índice del DataFrame en el archivo.\n",
    "\n",
    "print(f\"El DataFrame se ha guardado en {ruta_csv}\")"
   ]
  }
 ],
 "metadata": {
  "kernelspec": {
   "display_name": "venv",
   "language": "python",
   "name": "python3"
  },
  "language_info": {
   "codemirror_mode": {
    "name": "ipython",
    "version": 3
   },
   "file_extension": ".py",
   "mimetype": "text/x-python",
   "name": "python",
   "nbconvert_exporter": "python",
   "pygments_lexer": "ipython3",
   "version": "3.10.6"
  }
 },
 "nbformat": 4,
 "nbformat_minor": 2
}
